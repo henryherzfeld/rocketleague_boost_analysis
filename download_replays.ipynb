{
 "cells": [
  {
   "cell_type": "markdown",
   "metadata": {},
   "source": [
    "Downloads and saves replays under a provided player name using the [ballchasing API](https://ballchasing.com/doc/api)"
   ]
  },
  {
   "cell_type": "code",
   "execution_count": 28,
   "metadata": {},
   "outputs": [],
   "source": [
    "from urllib.parse import urlencode, urlunsplit, urljoin\n",
    "import requests\n",
    "from time import sleep\n",
    "from os import chdir, path"
   ]
  },
  {
   "cell_type": "code",
   "execution_count": 29,
   "metadata": {},
   "outputs": [],
   "source": [
    "name = \"playername\"\n",
    "token = \"2T6iVChhbVyc7A9pX1m15Hpb32hgD6FxZEGRmr0Q\" # TOKEN FROM BALLCHASING.COM\n",
    "\n",
    "project_dir = r'C:\\projects\\rl_replays'\n",
    "replay_raw_dir = r'replays\\replay_test'\n",
    "save_path = path.join(project_dir, replay_raw_dir)\n",
    "\n",
    "chdir(save_path)"
   ]
  },
  {
   "cell_type": "code",
   "execution_count": 30,
   "metadata": {},
   "outputs": [],
   "source": [
    "netloc = \"ballchasing.com\"\n",
    "option = \"replays\""
   ]
  },
  {
   "cell_type": "code",
   "execution_count": 31,
   "metadata": {},
   "outputs": [],
   "source": [
    "headers = {\"Authorization\": token}"
   ]
  },
  {
   "cell_type": "code",
   "execution_count": 32,
   "metadata": {},
   "outputs": [],
   "source": [
    "to_join = [\"api\", option]\n",
    "path = str.join(\"/\", to_join)"
   ]
  },
  {
   "cell_type": "code",
   "execution_count": 33,
   "metadata": {},
   "outputs": [],
   "source": [
    "param_dict = {}\n",
    "param_dict[\"player-name\"] = name"
   ]
  },
  {
   "cell_type": "code",
   "execution_count": 34,
   "metadata": {},
   "outputs": [],
   "source": [
    "params = urlencode(param_dict)\n",
    "\n",
    "url = urlunsplit((\"https\", netloc, path, params, \"\"))"
   ]
  },
  {
   "cell_type": "code",
   "execution_count": 35,
   "metadata": {},
   "outputs": [],
   "source": [
    "data = {'next': url}\n",
    "links = []\n",
    "while 'next' in data:\n",
    "    url = data['next']\n",
    "    resp = requests.get(url, headers=headers)\n",
    "    data = resp.json()\n",
    "    links.extend([entry['link'] for entry in data['list']])"
   ]
  },
  {
   "cell_type": "code",
   "execution_count": null,
   "metadata": {},
   "outputs": [],
   "source": [
    "for i, link in enumerate(links):\n",
    "    resp = requests.get(link+'/file', headers=headers)\n",
    "    sleep(1)\n",
    "    with open(f'{i}.replay', 'wb') as f:\n",
    "        f.write(resp.content)\n",
    "    \n",
    "    f.close()"
   ]
  },
  {
   "cell_type": "code",
   "execution_count": null,
   "metadata": {},
   "outputs": [],
   "source": []
  }
 ],
 "metadata": {
  "kernelspec": {
   "display_name": "Python 3",
   "language": "python",
   "name": "python3"
  },
  "language_info": {
   "codemirror_mode": {
    "name": "ipython",
    "version": 3
   },
   "file_extension": ".py",
   "mimetype": "text/x-python",
   "name": "python",
   "nbconvert_exporter": "python",
   "pygments_lexer": "ipython3",
   "version": "3.8.3"
  }
 },
 "nbformat": 4,
 "nbformat_minor": 4
}
